{
 "cells": [
  {
   "cell_type": "code",
   "execution_count": 16,
   "id": "92b4b6ea-893c-4241-941c-3b0cad9b82d1",
   "metadata": {},
   "outputs": [],
   "source": [
    "%load_ext autoreload\n",
    "%autoreload 2"
   ]
  },
  {
   "cell_type": "markdown",
   "id": "766716f9-c9cd-4379-ba4a-2446195b4acc",
   "metadata": {},
   "source": [
    "# Dataset"
   ]
  },
  {
   "cell_type": "markdown",
   "id": "9fdf7e04-7007-4db4-bdf1-53203fecdfa8",
   "metadata": {},
   "source": [
    "In the `examples/raw` directory, there are cif files and json files as an example to make dataset."
   ]
  },
  {
   "cell_type": "code",
   "execution_count": 17,
   "id": "1e1b6f7a-50c8-42fa-9363-4549350c7b80",
   "metadata": {},
   "outputs": [],
   "source": [
    "import os\n",
    "from model.utils.prepare_data import prepare_data"
   ]
  },
  {
   "cell_type": "code",
   "execution_count": 20,
   "id": "9dc3acbf-48fb-4407-92f3-50a9fc754893",
   "metadata": {},
   "outputs": [],
   "source": [
    "root_cifs = \"examples/raw/\"\n",
    "root_dataset = \"examples/dataset/\"\n",
    "os.makedirs(root_dataset, exist_ok=True)"
   ]
  },
  {
   "cell_type": "code",
   "execution_count": null,
   "id": "dc5afbb3-50a3-4704-9342-90d112998cd4",
   "metadata": {
    "tags": []
   },
   "outputs": [],
   "source": [
    "prepare_data(root_cifs=root_cifs, root_dataset=root_dataset)"
   ]
  },
  {
   "cell_type": "code",
   "execution_count": null,
   "id": "e040ab41-6e3c-4cee-8efe-b5bdd72bde85",
   "metadata": {},
   "outputs": [],
   "source": []
  }
 ],
 "metadata": {
  "kernelspec": {
   "display_name": "Python 3 (ipykernel)",
   "language": "python",
   "name": "python3"
  },
  "language_info": {
   "codemirror_mode": {
    "name": "ipython",
    "version": 3
   },
   "file_extension": ".py",
   "mimetype": "text/x-python",
   "name": "python",
   "nbconvert_exporter": "python",
   "pygments_lexer": "ipython3",
   "version": "3.8.13"
  }
 },
 "nbformat": 4,
 "nbformat_minor": 5
}
