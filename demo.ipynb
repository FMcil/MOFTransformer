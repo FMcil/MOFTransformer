{
 "cells": [
  {
   "cell_type": "code",
   "execution_count": 1,
   "id": "92b4b6ea-893c-4241-941c-3b0cad9b82d1",
   "metadata": {
    "pycharm": {
     "name": "#%%\n"
    }
   },
   "outputs": [],
   "source": [
    "%load_ext autoreload\n",
    "%autoreload 2"
   ]
  },
  {
   "cell_type": "markdown",
   "id": "766716f9-c9cd-4379-ba4a-2446195b4acc",
   "metadata": {
    "pycharm": {
     "name": "#%% md\n"
    }
   },
   "source": [
    "# Dataset"
   ]
  },
  {
   "cell_type": "markdown",
   "id": "9fdf7e04-7007-4db4-bdf1-53203fecdfa8",
   "metadata": {
    "pycharm": {
     "name": "#%% md\n"
    }
   },
   "source": [
    "In the `examples/raw` directory, there are cif files and json files as an example to make dataset."
   ]
  },
  {
   "cell_type": "code",
   "execution_count": 5,
   "id": "1e1b6f7a-50c8-42fa-9363-4549350c7b80",
   "metadata": {
    "pycharm": {
     "name": "#%%\n"
    }
   },
   "outputs": [],
   "source": [
    "import os\n",
    "from model.utils.prepare_data import prepare_data"
   ]
  },
  {
   "cell_type": "code",
   "execution_count": 6,
   "id": "9dc3acbf-48fb-4407-92f3-50a9fc754893",
   "metadata": {
    "pycharm": {
     "name": "#%%\n"
    }
   },
   "outputs": [],
   "source": [
    "root_cifs = \"examples/raw/\"\n",
    "root_dataset = \"examples/dataset/\"\n",
    "os.makedirs(root_dataset, exist_ok=True)"
   ]
  },
  {
   "cell_type": "code",
   "execution_count": 7,
   "id": "dc5afbb3-50a3-4704-9342-90d112998cd4",
   "metadata": {
    "tags": [],
    "pycharm": {
     "name": "#%%\n"
    }
   },
   "outputs": [
    {
     "name": "stderr",
     "output_type": "stream",
     "text": [
      "  0%|          | 0/4 [00:00<?, ?it/s]/home/hspark/anaconda3/envs/MOFTransformer/lib/python3.8/site-packages/pymatgen/io/cif.py:1164: UserWarning: Issues encountered while parsing CIF: Some fractional co-ordinates rounded to ideal values to avoid issues with finite precision.\n",
      "  warnings.warn(\"Issues encountered while parsing CIF: %s\" % \"\\n\".join(self.warnings))\n",
      "2022-09-16 15:15:27,039 - prepare_energy_grid.log - INFO - msp+N624+E8 energy grid success\n",
      "2022-09-16 15:15:27,039 - prepare_energy_grid.log - INFO - msp+N624+E8 energy grid success\n",
      "2022-09-16 15:15:27,043 - prepare_energy_grid.log - INFO - msp+N624+E8 energy grid changed to np16\n",
      "2022-09-16 15:15:27,043 - prepare_energy_grid.log - INFO - msp+N624+E8 energy grid changed to np16\n",
      "2022-09-16 15:15:27,045 - prepare_data.log - INFO - msp+N624+E8 succeed : supercell length (44.2173, 42.626, 39.33665076)\n",
      "2022-09-16 15:15:27,045 - prepare_data.log - INFO - msp+N624+E8 succeed : supercell length (44.2173, 42.626, 39.33665076)\n",
      " 25%|██▌       | 1/4 [00:02<00:07,  2.34s/it]2022-09-16 15:15:28,374 - prepare_energy_grid.log - INFO - mok+N109+E146 energy grid success\n",
      "2022-09-16 15:15:28,374 - prepare_energy_grid.log - INFO - mok+N109+E146 energy grid success\n",
      "2022-09-16 15:15:28,376 - prepare_energy_grid.log - INFO - mok+N109+E146 energy grid changed to np16\n",
      "2022-09-16 15:15:28,376 - prepare_energy_grid.log - INFO - mok+N109+E146 energy grid changed to np16\n",
      "2022-09-16 15:15:28,378 - prepare_data.log - INFO - mok+N109+E146 succeed : supercell length (34.46293332, 36.7581, 37.2919)\n",
      "2022-09-16 15:15:28,378 - prepare_data.log - INFO - mok+N109+E146 succeed : supercell length (34.46293332, 36.7581, 37.2919)\n",
      " 50%|█████     | 2/4 [00:03<00:03,  1.75s/it]2022-09-16 15:15:30,027 - prepare_energy_grid.log - INFO - smm+N577+E166 energy grid success\n",
      "2022-09-16 15:15:30,027 - prepare_energy_grid.log - INFO - smm+N577+E166 energy grid success\n",
      "2022-09-16 15:15:30,030 - prepare_energy_grid.log - INFO - smm+N577+E166 energy grid changed to np16\n",
      "2022-09-16 15:15:30,030 - prepare_energy_grid.log - INFO - smm+N577+E166 energy grid changed to np16\n",
      "2022-09-16 15:15:30,031 - prepare_data.log - INFO - smm+N577+E166 succeed : supercell length (37.37019999000001, 41.2476, 41.48976758)\n",
      "2022-09-16 15:15:30,031 - prepare_data.log - INFO - smm+N577+E166 succeed : supercell length (37.37019999000001, 41.2476, 41.48976758)\n",
      " 75%|███████▌  | 3/4 [00:05<00:01,  1.71s/it]2022-09-16 15:15:33,570 - prepare_energy_grid.log - INFO - sml+N696+E182 energy grid success\n",
      "2022-09-16 15:15:33,570 - prepare_energy_grid.log - INFO - sml+N696+E182 energy grid success\n",
      "2022-09-16 15:15:33,573 - prepare_energy_grid.log - INFO - sml+N696+E182 energy grid changed to np16\n",
      "2022-09-16 15:15:33,573 - prepare_energy_grid.log - INFO - sml+N696+E182 energy grid changed to np16\n",
      "2022-09-16 15:15:33,575 - prepare_data.log - INFO - sml+N696+E182 succeed : supercell length (38.893499999999996, 51.771200000278796, 51.77198252)\n",
      "2022-09-16 15:15:33,575 - prepare_data.log - INFO - sml+N696+E182 succeed : supercell length (38.893499999999996, 51.771200000278796, 51.77198252)\n",
      "100%|██████████| 4/4 [00:08<00:00,  2.22s/it]\n",
      "  0%|          | 0/4 [00:00<?, ?it/s]2022-09-16 15:15:35,715 - prepare_energy_grid.log - INFO - vmk+N489+E8 energy grid success\n",
      "2022-09-16 15:15:35,715 - prepare_energy_grid.log - INFO - vmk+N489+E8 energy grid success\n",
      "2022-09-16 15:15:35,717 - prepare_energy_grid.log - INFO - vmk+N489+E8 energy grid changed to np16\n",
      "2022-09-16 15:15:35,717 - prepare_energy_grid.log - INFO - vmk+N489+E8 energy grid changed to np16\n",
      "2022-09-16 15:15:35,719 - prepare_data.log - INFO - vmk+N489+E8 succeed : supercell length (44.34, 34.23309999999999, 40.1965)\n",
      "2022-09-16 15:15:35,719 - prepare_data.log - INFO - vmk+N489+E8 succeed : supercell length (44.34, 34.23309999999999, 40.1965)\n",
      " 25%|██▌       | 1/4 [00:02<00:06,  2.14s/it]2022-09-16 15:15:38,478 - prepare_energy_grid.log - INFO - fee+N254+E185 energy grid success\n",
      "2022-09-16 15:15:38,478 - prepare_energy_grid.log - INFO - fee+N254+E185 energy grid success\n",
      "2022-09-16 15:15:38,482 - prepare_energy_grid.log - INFO - fee+N254+E185 energy grid changed to np16\n",
      "2022-09-16 15:15:38,482 - prepare_energy_grid.log - INFO - fee+N254+E185 energy grid changed to np16\n",
      "2022-09-16 15:15:38,484 - prepare_data.log - INFO - fee+N254+E185 succeed : supercell length (43.7688, 49.4526, 49.6872)\n",
      "2022-09-16 15:15:38,484 - prepare_data.log - INFO - fee+N254+E185 succeed : supercell length (43.7688, 49.4526, 49.6872)\n",
      " 50%|█████     | 2/4 [00:04<00:05,  2.51s/it]2022-09-16 15:15:43,056 - prepare_energy_grid.log - INFO - vna+N650+E120 energy grid success\n",
      "2022-09-16 15:15:43,056 - prepare_energy_grid.log - INFO - vna+N650+E120 energy grid success\n",
      "2022-09-16 15:15:43,060 - prepare_energy_grid.log - INFO - vna+N650+E120 energy grid changed to np16\n",
      "2022-09-16 15:15:43,060 - prepare_energy_grid.log - INFO - vna+N650+E120 energy grid changed to np16\n",
      "2022-09-16 15:15:43,062 - prepare_data.log - INFO - vna+N650+E120 succeed : supercell length (38.5083, 43.2773, 50.3844)\n",
      "2022-09-16 15:15:43,062 - prepare_data.log - INFO - vna+N650+E120 succeed : supercell length (38.5083, 43.2773, 50.3844)\n",
      " 75%|███████▌  | 3/4 [00:09<00:03,  3.45s/it]2022-09-16 15:15:44,456 - prepare_energy_grid.log - INFO - acs+N270+E33 energy grid success\n",
      "2022-09-16 15:15:44,456 - prepare_energy_grid.log - INFO - acs+N270+E33 energy grid success\n",
      "2022-09-16 15:15:44,459 - prepare_energy_grid.log - INFO - acs+N270+E33 energy grid changed to np16\n",
      "2022-09-16 15:15:44,459 - prepare_energy_grid.log - INFO - acs+N270+E33 energy grid changed to np16\n",
      "2022-09-16 15:15:44,461 - prepare_data.log - INFO - acs+N270+E33 succeed : supercell length (44.48401086, 44.9324, 45.3149)\n",
      "2022-09-16 15:15:44,461 - prepare_data.log - INFO - acs+N270+E33 succeed : supercell length (44.48401086, 44.9324, 45.3149)\n",
      "100%|██████████| 4/4 [00:10<00:00,  2.72s/it]\n",
      "  0%|          | 0/4 [00:00<?, ?it/s]2022-09-16 15:15:45,827 - prepare_energy_grid.log - INFO - etc+N80+N60+E173+E76 energy grid success\n",
      "2022-09-16 15:15:45,827 - prepare_energy_grid.log - INFO - etc+N80+N60+E173+E76 energy grid success\n",
      "2022-09-16 15:15:45,830 - prepare_energy_grid.log - INFO - etc+N80+N60+E173+E76 energy grid changed to np16\n",
      "2022-09-16 15:15:45,830 - prepare_energy_grid.log - INFO - etc+N80+N60+E173+E76 energy grid changed to np16\n",
      "2022-09-16 15:15:45,832 - prepare_data.log - INFO - etc+N80+N60+E173+E76 succeed : supercell length (35.7611, 55.91860620999999, 56.52775205)\n",
      "2022-09-16 15:15:45,832 - prepare_data.log - INFO - etc+N80+N60+E173+E76 succeed : supercell length (35.7611, 55.91860620999999, 56.52775205)\n",
      " 25%|██▌       | 1/4 [00:01<00:04,  1.37s/it]2022-09-16 15:15:49,993 - prepare_energy_grid.log - INFO - zzz+N96+N373+E34 energy grid success\n",
      "2022-09-16 15:15:49,993 - prepare_energy_grid.log - INFO - zzz+N96+N373+E34 energy grid success\n",
      "2022-09-16 15:15:49,996 - prepare_energy_grid.log - INFO - zzz+N96+N373+E34 energy grid changed to np16\n",
      "2022-09-16 15:15:49,996 - prepare_energy_grid.log - INFO - zzz+N96+N373+E34 energy grid changed to np16\n",
      "2022-09-16 15:15:49,998 - prepare_data.log - INFO - zzz+N96+N373+E34 succeed : supercell length (42.7797, 57.6721, 58.5859)\n",
      "2022-09-16 15:15:49,998 - prepare_data.log - INFO - zzz+N96+N373+E34 succeed : supercell length (42.7797, 57.6721, 58.5859)\n",
      " 50%|█████     | 2/4 [00:05<00:06,  3.01s/it]2022-09-16 15:15:51,696 - prepare_energy_grid.log - INFO - mrc+N568+N190+E116+E77 energy grid success\n",
      "2022-09-16 15:15:51,696 - prepare_energy_grid.log - INFO - mrc+N568+N190+E116+E77 energy grid success\n",
      "2022-09-16 15:15:51,699 - prepare_energy_grid.log - INFO - mrc+N568+N190+E116+E77 energy grid changed to np16\n",
      "2022-09-16 15:15:51,699 - prepare_energy_grid.log - INFO - mrc+N568+N190+E116+E77 energy grid changed to np16\n",
      "2022-09-16 15:15:51,701 - prepare_data.log - INFO - mrc+N568+N190+E116+E77 succeed : supercell length (51.3438, 36.7489, 37.7295)\n",
      "2022-09-16 15:15:51,701 - prepare_data.log - INFO - mrc+N568+N190+E116+E77 succeed : supercell length (51.3438, 36.7489, 37.7295)\n",
      " 75%|███████▌  | 3/4 [00:07<00:02,  2.42s/it]2022-09-16 15:15:52,708 - prepare_energy_grid.log - INFO - ukg+N387+E203 energy grid success\n",
      "2022-09-16 15:15:52,708 - prepare_energy_grid.log - INFO - ukg+N387+E203 energy grid success\n",
      "2022-09-16 15:15:52,712 - prepare_energy_grid.log - INFO - ukg+N387+E203 energy grid changed to np16\n",
      "2022-09-16 15:15:52,712 - prepare_energy_grid.log - INFO - ukg+N387+E203 energy grid changed to np16\n",
      "2022-09-16 15:15:52,714 - prepare_data.log - INFO - ukg+N387+E203 succeed : supercell length (34.1054, 36.7791, 42.6074)\n",
      "2022-09-16 15:15:52,714 - prepare_data.log - INFO - ukg+N387+E203 succeed : supercell length (34.1054, 36.7791, 42.6074)\n",
      "100%|██████████| 4/4 [00:08<00:00,  2.06s/it]\n"
     ]
    }
   ],
   "source": [
    "prepare_data(root_cifs=root_cifs, root_dataset=root_dataset, task=\"example\")"
   ]
  },
  {
   "cell_type": "code",
   "execution_count": null,
   "id": "e040ab41-6e3c-4cee-8efe-b5bdd72bde85",
   "metadata": {
    "pycharm": {
     "name": "#%%\n"
    }
   },
   "outputs": [],
   "source": []
  }
 ],
 "metadata": {
  "kernelspec": {
   "display_name": "Python 3 (ipykernel)",
   "language": "python",
   "name": "python3"
  },
  "language_info": {
   "codemirror_mode": {
    "name": "ipython",
    "version": 3
   },
   "file_extension": ".py",
   "mimetype": "text/x-python",
   "name": "python",
   "nbconvert_exporter": "python",
   "pygments_lexer": "ipython3",
   "version": "3.8.13"
  }
 },
 "nbformat": 4,
 "nbformat_minor": 5
}