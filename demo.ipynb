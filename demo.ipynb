{
 "cells": [
  {
   "cell_type": "code",
   "execution_count": null,
   "id": "92b4b6ea-893c-4241-941c-3b0cad9b82d1",
   "metadata": {
    "pycharm": {
     "name": "#%%\n"
    }
   },
   "outputs": [],
   "source": [
    "%load_ext autoreload\n",
    "%autoreload 2"
   ]
  },
  {
   "cell_type": "markdown",
   "id": "766716f9-c9cd-4379-ba4a-2446195b4acc",
   "metadata": {
    "pycharm": {
     "name": "#%% md\n"
    }
   },
   "source": [
    "# Dataset"
   ]
  },
  {
   "cell_type": "markdown",
   "id": "9fdf7e04-7007-4db4-bdf1-53203fecdfa8",
   "metadata": {
    "pycharm": {
     "name": "#%% md\n"
    }
   },
   "source": [
    "In the `examples/raw` directory, there are cif files and json files as an example to make dataset."
   ]
  },
  {
   "cell_type": "code",
   "execution_count": null,
   "id": "1e1b6f7a-50c8-42fa-9363-4549350c7b80",
   "metadata": {
    "pycharm": {
     "name": "#%%\n"
    }
   },
   "outputs": [],
   "source": [
    "import os\n",
    "from model.utils.prepare_data import prepare_data"
   ]
  },
  {
   "cell_type": "code",
   "execution_count": null,
   "id": "9dc3acbf-48fb-4407-92f3-50a9fc754893",
   "metadata": {
    "pycharm": {
     "name": "#%%\n"
    }
   },
   "outputs": [],
   "source": [
    "root_cifs = \"examples/raw/\"\n",
    "root_dataset = \"examples/dataset/\"\n",
    "os.makedirs(root_dataset, exist_ok=True)"
   ]
  },
  {
   "cell_type": "code",
   "execution_count": null,
   "id": "dc5afbb3-50a3-4704-9342-90d112998cd4",
   "metadata": {
    "pycharm": {
     "name": "#%%\n"
    },
    "tags": []
   },
   "outputs": [],
   "source": [
    "prepare_data(root_cifs=root_cifs, root_dataset=root_dataset, task=\"example\")"
   ]
  },
  {
   "cell_type": "code",
   "execution_count": null,
   "id": "ac8b0abe-8319-4cfa-8151-c5a52f7ae2b7",
   "metadata": {
    "pycharm": {
     "name": "#%%\n"
    }
   },
   "outputs": [],
   "source": []
  },
  {
   "cell_type": "markdown",
   "id": "b0b4ad5f-46bf-43dd-88cb-ce42c6d5785c",
   "metadata": {
    "pycharm": {
     "name": "#%% md\n"
    }
   },
   "source": [
    "# Run"
   ]
  },
  {
   "cell_type": "code",
   "execution_count": 2,
   "id": "35d00cf7-f735-4278-97ca-51ad06b9616f",
   "metadata": {
    "pycharm": {
     "name": "#%%\n"
    }
   },
   "outputs": [],
   "source": [
    "from moftransformer import run"
   ]
  },
  {
   "cell_type": "code",
   "execution_count": 4,
   "id": "ad2c2dcb-26d9-4f42-a42f-93fbb8459ebb",
   "metadata": {
    "pycharm": {
     "name": "#%%\n"
    }
   },
   "outputs": [
    {
     "name": "stderr",
     "output_type": "stream",
     "text": [
      "Global seed set to 0\n"
     ]
    },
    {
     "name": "stdout",
     "output_type": "stream",
     "text": [
      "context has already been set\n"
     ]
    },
    {
     "name": "stderr",
     "output_type": "stream",
     "text": [
      "/home/dudgns1675/anaconda3/envs/test/lib/python3.8/site-packages/pytorch_lightning-1.7.7-py3.8.egg/pytorch_lightning/trainer/connectors/accelerator_connector.py:447: LightningDeprecationWarning: Setting `Trainer(gpus=[0])` is deprecated in v1.7 and will be removed in v2.0. Please use `Trainer(accelerator='gpu', devices=[0])` instead.\n",
      "  rank_zero_deprecation(\n",
      "Using 16bit native Automatic Mixed Precision (AMP)\n",
      "GPU available: True (cuda), used: True\n",
      "TPU available: False, using: 0 TPU cores\n",
      "IPU available: False, using: 0 IPUs\n",
      "HPU available: False, using: 0 HPUs\n",
      "`Trainer(val_check_interval=1.0)` was configured so validation will run at the end of the training epoch..\n"
     ]
    },
    {
     "name": "stdout",
     "output_type": "stream",
     "text": [
      "read /home/dudgns1675/moftransformer/examples/dataset/train_example.json...\n",
      "read /home/dudgns1675/moftransformer/examples/dataset/val_example.json...\n"
     ]
    },
    {
     "name": "stderr",
     "output_type": "stream",
     "text": [
      "LOCAL_RANK: 0 - CUDA_VISIBLE_DEVICES: [0,1]\n",
      "/home/dudgns1675/anaconda3/envs/test/lib/python3.8/site-packages/transformers-4.22.2-py3.8.egg/transformers/optimization.py:306: FutureWarning: This implementation of AdamW is deprecated and will be removed in a future version. Use the PyTorch implementation torch.optim.AdamW instead, or set `no_deprecation_warning=True` to disable this warning\n",
      "  warnings.warn(\n",
      "/home/dudgns1675/anaconda3/envs/test/lib/python3.8/site-packages/pytorch_lightning-1.7.7-py3.8.egg/pytorch_lightning/trainer/trainer.py:2099: LightningDeprecationWarning: `Trainer.num_gpus` was deprecated in v1.6 and will be removed in v1.8. Please use `Trainer.num_devices` instead.\n",
      "  rank_zero_deprecation(\n",
      "\n",
      "   | Name                  | Type                | Params\n",
      "---------------------------------------------------------------\n",
      "0  | graph_embeddings      | GraphEmbeddings     | 132 K \n",
      "1  | token_type_embeddings | Embedding           | 1.5 K \n",
      "2  | transformer           | VisionTransformer3D | 85.3 M\n",
      "3  | cls_embeddings        | Linear              | 1.5 K \n",
      "4  | volume_embeddings     | Linear              | 1.5 K \n",
      "5  | pooler                | Pooler              | 590 K \n",
      "6  | regression_head       | RegressionHead      | 769   \n",
      "7  | train_regression_loss | Scalar              | 0     \n",
      "8  | train_regression_mae  | Scalar              | 0     \n",
      "9  | val_regression_loss   | Scalar              | 0     \n",
      "10 | val_regression_mae    | Scalar              | 0     \n",
      "---------------------------------------------------------------\n",
      "86.0 M    Trainable params\n",
      "0         Non-trainable params\n",
      "86.0 M    Total params\n",
      "172.099   Total estimated model params size (MB)\n"
     ]
    },
    {
     "name": "stdout",
     "output_type": "stream",
     "text": [
      "max_epochs: 100 | max_steps: 3 | warmup_steps : 0 | weight_decay : 0.01 | decay_power : 1\n"
     ]
    },
    {
     "data": {
      "application/vnd.jupyter.widget-view+json": {
       "model_id": "061daebb22c84c68af2c705769b2595e",
       "version_major": 2,
       "version_minor": 0
      },
      "text/plain": [
       "Sanity Checking: 0it [00:00, ?it/s]"
      ]
     },
     "metadata": {},
     "output_type": "display_data"
    },
    {
     "name": "stderr",
     "output_type": "stream",
     "text": [
      "/home/dudgns1675/anaconda3/envs/test/lib/python3.8/site-packages/pytorch_lightning-1.7.7-py3.8.egg/pytorch_lightning/trainer/trainer.py:1892: PossibleUserWarning: The number of training batches (1) is smaller than the logging interval Trainer(log_every_n_steps=10). Set a lower value for log_every_n_steps if you want to see logs for the training epoch.\n",
      "  rank_zero_warn(\n"
     ]
    },
    {
     "data": {
      "application/vnd.jupyter.widget-view+json": {
       "model_id": "b2ae5eef7f4e4cb988dcd7e5766853b6",
       "version_major": 2,
       "version_minor": 0
      },
      "text/plain": [
       "Training: 0it [00:00, ?it/s]"
      ]
     },
     "metadata": {},
     "output_type": "display_data"
    },
    {
     "name": "stderr",
     "output_type": "stream",
     "text": [
      "Traceback (most recent call last):\n",
      "  File \"<string>\", line 1, in <module>\n",
      "  File \"/home/dudgns1675/anaconda3/envs/test/lib/python3.8/multiprocessing/spawn.py\", line 116, in spawn_main\n",
      "    exitcode = _main(fd, parent_sentinel)\n",
      "  File \"/home/dudgns1675/anaconda3/envs/test/lib/python3.8/multiprocessing/spawn.py\", line 126, in _main\n",
      "    self = reduction.pickle.load(from_parent)\n",
      "  File \"/home/dudgns1675/moftransformer/moftransformer/__init__.py\", line 1, in <module>\n",
      "    from moftransformer import visualize, utils, modules, libs, gadgets, datamodules, assets\n",
      "  File \"/home/dudgns1675/moftransformer/moftransformer/visualize/__init__.py\", line 1, in <module>\n",
      "    from moftransformer.visualize.visualizer import PatchVisualizer\n",
      "  File \"/home/dudgns1675/moftransformer/moftransformer/visualize/visualizer.py\", line 11, in <module>\n",
      "    from moftransformer.visualize.utils import get_structure, get_heatmap, scaler, get_model_and_datamodule, \\\n",
      "  File \"/home/dudgns1675/moftransformer/moftransformer/visualize/utils.py\", line 13, in <module>\n",
      "    import pytorch_lightning as pl\n",
      "  File \"/home/dudgns1675/anaconda3/envs/test/lib/python3.8/site-packages/pytorch_lightning-1.7.7-py3.8.egg/pytorch_lightning/__init__.py\", line 34, in <module>\n",
      "    from pytorch_lightning.callbacks import Callback  # noqa: E402\n",
      "  File \"/home/dudgns1675/anaconda3/envs/test/lib/python3.8/site-packages/pytorch_lightning-1.7.7-py3.8.egg/pytorch_lightning/callbacks/__init__.py\", line 14, in <module>\n",
      "    from pytorch_lightning.callbacks.callback import Callback\n",
      "  File \"/home/dudgns1675/anaconda3/envs/test/lib/python3.8/site-packages/pytorch_lightning-1.7.7-py3.8.egg/pytorch_lightning/callbacks/callback.py\", line 25, in <module>\n",
      "    from pytorch_lightning.utilities.types import STEP_OUTPUT\n",
      "  File \"/home/dudgns1675/anaconda3/envs/test/lib/python3.8/site-packages/pytorch_lightning-1.7.7-py3.8.egg/pytorch_lightning/utilities/__init__.py\", line 55, in <module>\n",
      "    from pytorch_lightning.utilities.parsing import AttributeDict, flatten_dict, is_picklable  # noqa: F401\n",
      "  File \"<frozen importlib._bootstrap>\", line 986, in _find_and_load\n",
      "KeyboardInterrupt\n",
      "Traceback (most recent call last):\n",
      "  File \"<string>\", line 1, in <module>\n",
      "  File \"/home/dudgns1675/anaconda3/envs/test/lib/python3.8/multiprocessing/spawn.py\", line 116, in spawn_main\n",
      "    exitcode = _main(fd, parent_sentinel)\n",
      "  File \"/home/dudgns1675/anaconda3/envs/test/lib/python3.8/multiprocessing/spawn.py\", line 126, in _main\n",
      "    self = reduction.pickle.load(from_parent)\n",
      "  File \"/home/dudgns1675/moftransformer/moftransformer/__init__.py\", line 1, in <module>\n",
      "    from moftransformer import visualize, utils, modules, libs, gadgets, datamodules, assets\n",
      "  File \"/home/dudgns1675/moftransformer/moftransformer/visualize/__init__.py\", line 1, in <module>\n",
      "    from moftransformer.visualize.visualizer import PatchVisualizer\n",
      "  File \"/home/dudgns1675/moftransformer/moftransformer/visualize/visualizer.py\", line 11, in <module>\n",
      "    from moftransformer.visualize.utils import get_structure, get_heatmap, scaler, get_model_and_datamodule, \\\n",
      "  File \"/home/dudgns1675/moftransformer/moftransformer/visualize/utils.py\", line 10, in <module>\n",
      "    from pymatgen.io.cif import CifParser\n",
      "  File \"/home/dudgns1675/anaconda3/envs/test/lib/python3.8/site-packages/pymatgen-2022.9.21-py3.8-linux-x86_64.egg/pymatgen/io/cif.py\", line 24, in <module>\n",
      "    from pymatgen.core.composition import Composition\n",
      "  File \"/home/dudgns1675/anaconda3/envs/test/lib/python3.8/site-packages/pymatgen-2022.9.21-py3.8-linux-x86_64.egg/pymatgen/core/__init__.py\", line 14, in <module>\n",
      "    from .composition import Composition\n",
      "  File \"/home/dudgns1675/anaconda3/envs/test/lib/python3.8/site-packages/pymatgen-2022.9.21-py3.8-linux-x86_64.egg/pymatgen/core/composition.py\", line 24, in <module>\n",
      "    from pymatgen.core.periodic_table import DummySpecies, Element, Species, get_el_sp\n",
      "  File \"/home/dudgns1675/anaconda3/envs/test/lib/python3.8/site-packages/pymatgen-2022.9.21-py3.8-linux-x86_64.egg/pymatgen/core/periodic_table.py\", line 22, in <module>\n",
      "    from pymatgen.core.units import SUPPORTED_UNIT_NAMES, FloatWithUnit, Length, Mass, Unit\n",
      "  File \"/home/dudgns1675/anaconda3/envs/test/lib/python3.8/site-packages/pymatgen-2022.9.21-py3.8-linux-x86_64.egg/pymatgen/core/units.py\", line 18, in <module>\n",
      "    import scipy.constants as const\n",
      "  File \"/home/dudgns1675/anaconda3/envs/test/lib/python3.8/site-packages/scipy-1.9.1-py3.8-linux-x86_64.egg/scipy/__init__.py\", line 91, in <module>\n",
      "    if isinstance(_fun, _types.ModuleType):\n",
      "KeyboardInterrupt\n",
      "Traceback (most recent call last):\n",
      "  File \"<string>\", line 1, in <module>\n",
      "  File \"/home/dudgns1675/anaconda3/envs/test/lib/python3.8/multiprocessing/spawn.py\", line 116, in spawn_main\n",
      "    exitcode = _main(fd, parent_sentinel)\n",
      "  File \"/home/dudgns1675/anaconda3/envs/test/lib/python3.8/multiprocessing/spawn.py\", line 126, in _main\n",
      "    self = reduction.pickle.load(from_parent)\n",
      "  File \"/home/dudgns1675/moftransformer/moftransformer/__init__.py\", line 1, in <module>\n",
      "    from moftransformer import visualize, utils, modules, libs, gadgets, datamodules, assets\n",
      "  File \"/home/dudgns1675/moftransformer/moftransformer/visualize/__init__.py\", line 1, in <module>\n",
      "    from moftransformer.visualize.visualizer import PatchVisualizer\n",
      "  File \"/home/dudgns1675/moftransformer/moftransformer/visualize/visualizer.py\", line 11, in <module>\n",
      "    from moftransformer.visualize.utils import get_structure, get_heatmap, scaler, get_model_and_datamodule, \\\n",
      "  File \"/home/dudgns1675/moftransformer/moftransformer/visualize/utils.py\", line 10, in <module>\n",
      "    from pymatgen.io.cif import CifParser\n",
      "  File \"/home/dudgns1675/anaconda3/envs/test/lib/python3.8/site-packages/pymatgen-2022.9.21-py3.8-linux-x86_64.egg/pymatgen/io/cif.py\", line 24, in <module>\n",
      "    from pymatgen.core.composition import Composition\n",
      "  File \"/home/dudgns1675/anaconda3/envs/test/lib/python3.8/site-packages/pymatgen-2022.9.21-py3.8-linux-x86_64.egg/pymatgen/core/__init__.py\", line 15, in <module>\n",
      "    from .lattice import Lattice\n",
      "  File \"/home/dudgns1675/anaconda3/envs/test/lib/python3.8/site-packages/pymatgen-2022.9.21-py3.8-linux-x86_64.egg/pymatgen/core/lattice.py\", line 25, in <module>\n",
      "    from pymatgen.util.num import abs_cap\n",
      "  File \"<frozen importlib._bootstrap>\", line 988, in _find_and_load\n",
      "  File \"<frozen importlib._bootstrap>\", line 149, in __enter__\n",
      "  File \"<frozen importlib._bootstrap>\", line 91, in acquire\n",
      "KeyboardInterrupt\n",
      "Traceback (most recent call last):\n",
      "  File \"<string>\", line 1, in <module>\n",
      "  File \"/home/dudgns1675/anaconda3/envs/test/lib/python3.8/multiprocessing/spawn.py\", line 116, in spawn_main\n",
      "    exitcode = _main(fd, parent_sentinel)\n",
      "  File \"/home/dudgns1675/anaconda3/envs/test/lib/python3.8/multiprocessing/spawn.py\", line 126, in _main\n",
      "    self = reduction.pickle.load(from_parent)\n",
      "  File \"/home/dudgns1675/moftransformer/moftransformer/__init__.py\", line 1, in <module>\n",
      "    from moftransformer import visualize, utils, modules, libs, gadgets, datamodules, assets\n",
      "  File \"/home/dudgns1675/moftransformer/moftransformer/visualize/__init__.py\", line 1, in <module>\n",
      "    from moftransformer.visualize.visualizer import PatchVisualizer\n",
      "  File \"/home/dudgns1675/moftransformer/moftransformer/visualize/visualizer.py\", line 11, in <module>\n",
      "    from moftransformer.visualize.utils import get_structure, get_heatmap, scaler, get_model_and_datamodule, \\\n",
      "  File \"/home/dudgns1675/moftransformer/moftransformer/visualize/utils.py\", line 10, in <module>\n",
      "    from pymatgen.io.cif import CifParser\n",
      "  File \"/home/dudgns1675/anaconda3/envs/test/lib/python3.8/site-packages/pymatgen-2022.9.21-py3.8-linux-x86_64.egg/pymatgen/io/cif.py\", line 24, in <module>\n",
      "    from pymatgen.core.composition import Composition\n",
      "  File \"/home/dudgns1675/anaconda3/envs/test/lib/python3.8/site-packages/pymatgen-2022.9.21-py3.8-linux-x86_64.egg/pymatgen/core/__init__.py\", line 14, in <module>\n",
      "    from .composition import Composition\n",
      "  File \"/home/dudgns1675/anaconda3/envs/test/lib/python3.8/site-packages/pymatgen-2022.9.21-py3.8-linux-x86_64.egg/pymatgen/core/composition.py\", line 21, in <module>\n",
      "    from monty.json import MSONable\n",
      "  File \"/home/dudgns1675/anaconda3/envs/test/lib/python3.8/site-packages/monty-2022.9.9-py3.8.egg/monty/json.py\", line 23, in <module>\n",
      "    import pandas as pd\n",
      "  File \"/home/dudgns1675/anaconda3/envs/test/lib/python3.8/site-packages/pandas-1.5.0-py3.8-linux-x86_64.egg/pandas/__init__.py\", line 48, in <module>\n",
      "    from pandas.core.api import (\n",
      "  File \"/home/dudgns1675/anaconda3/envs/test/lib/python3.8/site-packages/pandas-1.5.0-py3.8-linux-x86_64.egg/pandas/core/api.py\", line 27, in <module>\n",
      "    from pandas.core.arrays import Categorical\n",
      "  File \"/home/dudgns1675/anaconda3/envs/test/lib/python3.8/site-packages/pandas-1.5.0-py3.8-linux-x86_64.egg/pandas/core/arrays/__init__.py\", line 12, in <module>\n",
      "    from pandas.core.arrays.interval import IntervalArray\n",
      "  File \"/home/dudgns1675/anaconda3/envs/test/lib/python3.8/site-packages/pandas-1.5.0-py3.8-linux-x86_64.egg/pandas/core/arrays/interval.py\", line 92, in <module>\n",
      "    from pandas.core.indexes.base import ensure_index\n",
      "  File \"/home/dudgns1675/anaconda3/envs/test/lib/python3.8/site-packages/pandas-1.5.0-py3.8-linux-x86_64.egg/pandas/core/indexes/base.py\", line 157, in <module>\n",
      "    from pandas.core.arrays.sparse import SparseDtype\n",
      "  File \"/home/dudgns1675/anaconda3/envs/test/lib/python3.8/site-packages/pandas-1.5.0-py3.8-linux-x86_64.egg/pandas/core/arrays/sparse/__init__.py\", line 1, in <module>\n",
      "    from pandas.core.arrays.sparse.accessor import (\n",
      "  File \"/home/dudgns1675/anaconda3/envs/test/lib/python3.8/site-packages/pandas-1.5.0-py3.8-linux-x86_64.egg/pandas/core/arrays/sparse/accessor.py\", line 16, in <module>\n",
      "    from pandas.core.arrays.sparse.array import SparseArray\n",
      "  File \"/home/dudgns1675/anaconda3/envs/test/lib/python3.8/site-packages/pandas-1.5.0-py3.8-linux-x86_64.egg/pandas/core/arrays/sparse/array.py\", line 100, in <module>\n",
      "    import pandas.io.formats.printing as printing\n",
      "  File \"/home/dudgns1675/anaconda3/envs/test/lib/python3.8/site-packages/pandas-1.5.0-py3.8-linux-x86_64.egg/pandas/io/formats/printing.py\", line 244, in <module>\n",
      "    def enable_data_resource_formatter(enable: bool) -> None:\n",
      "KeyboardInterrupt\n",
      "Traceback (most recent call last):\n",
      "  File \"<string>\", line 1, in <module>\n",
      "  File \"/home/dudgns1675/anaconda3/envs/test/lib/python3.8/multiprocessing/spawn.py\", line 116, in spawn_main\n",
      "    exitcode = _main(fd, parent_sentinel)\n",
      "  File \"/home/dudgns1675/anaconda3/envs/test/lib/python3.8/multiprocessing/spawn.py\", line 126, in _main\n",
      "    self = reduction.pickle.load(from_parent)\n",
      "  File \"/home/dudgns1675/moftransformer/moftransformer/__init__.py\", line 1, in <module>\n",
      "    from moftransformer import visualize, utils, modules, libs, gadgets, datamodules, assets\n",
      "  File \"/home/dudgns1675/moftransformer/moftransformer/visualize/__init__.py\", line 1, in <module>\n",
      "    from moftransformer.visualize.visualizer import PatchVisualizer\n",
      "  File \"/home/dudgns1675/moftransformer/moftransformer/visualize/visualizer.py\", line 11, in <module>\n",
      "    from moftransformer.visualize.utils import get_structure, get_heatmap, scaler, get_model_and_datamodule, \\\n",
      "  File \"/home/dudgns1675/moftransformer/moftransformer/visualize/utils.py\", line 10, in <module>\n",
      "    from pymatgen.io.cif import CifParser\n",
      "  File \"/home/dudgns1675/anaconda3/envs/test/lib/python3.8/site-packages/pymatgen-2022.9.21-py3.8-linux-x86_64.egg/pymatgen/io/cif.py\", line 24, in <module>\n",
      "    from pymatgen.core.composition import Composition\n",
      "  File \"/home/dudgns1675/anaconda3/envs/test/lib/python3.8/site-packages/pymatgen-2022.9.21-py3.8-linux-x86_64.egg/pymatgen/core/__init__.py\", line 14, in <module>\n",
      "    from .composition import Composition\n",
      "  File \"/home/dudgns1675/anaconda3/envs/test/lib/python3.8/site-packages/pymatgen-2022.9.21-py3.8-linux-x86_64.egg/pymatgen/core/composition.py\", line 21, in <module>\n",
      "    from monty.json import MSONable\n",
      "  File \"/home/dudgns1675/anaconda3/envs/test/lib/python3.8/site-packages/monty-2022.9.9-py3.8.egg/monty/json.py\", line 23, in <module>\n",
      "    import pandas as pd\n",
      "  File \"/home/dudgns1675/anaconda3/envs/test/lib/python3.8/site-packages/pandas-1.5.0-py3.8-linux-x86_64.egg/pandas/__init__.py\", line 48, in <module>\n",
      "    from pandas.core.api import (\n",
      "  File \"/home/dudgns1675/anaconda3/envs/test/lib/python3.8/site-packages/pandas-1.5.0-py3.8-linux-x86_64.egg/pandas/core/api.py\", line 47, in <module>\n",
      "    from pandas.core.groupby import (\n",
      "  File \"/home/dudgns1675/anaconda3/envs/test/lib/python3.8/site-packages/pandas-1.5.0-py3.8-linux-x86_64.egg/pandas/core/groupby/__init__.py\", line 1, in <module>\n",
      "    from pandas.core.groupby.generic import (\n",
      "  File \"/home/dudgns1675/anaconda3/envs/test/lib/python3.8/site-packages/pandas-1.5.0-py3.8-linux-x86_64.egg/pandas/core/groupby/generic.py\", line 77, in <module>\n",
      "    from pandas.core.frame import DataFrame\n",
      "  File \"/home/dudgns1675/anaconda3/envs/test/lib/python3.8/site-packages/pandas-1.5.0-py3.8-linux-x86_64.egg/pandas/core/frame.py\", line 171, in <module>\n",
      "    from pandas.core.generic import NDFrame\n",
      "  File \"/home/dudgns1675/anaconda3/envs/test/lib/python3.8/site-packages/pandas-1.5.0-py3.8-linux-x86_64.egg/pandas/core/generic.py\", line 132, in <module>\n",
      "    from pandas.core import (\n",
      "  File \"/home/dudgns1675/anaconda3/envs/test/lib/python3.8/site-packages/pandas-1.5.0-py3.8-linux-x86_64.egg/pandas/core/indexing.py\", line 69, in <module>\n",
      "    from pandas.core.indexes.api import (\n",
      "  File \"/home/dudgns1675/anaconda3/envs/test/lib/python3.8/site-packages/pandas-1.5.0-py3.8-linux-x86_64.egg/pandas/core/indexes/api.py\", line 26, in <module>\n",
      "    from pandas.core.indexes.datetimes import DatetimeIndex\n",
      "  File \"/home/dudgns1675/anaconda3/envs/test/lib/python3.8/site-packages/pandas-1.5.0-py3.8-linux-x86_64.egg/pandas/core/indexes/datetimes.py\", line 68, in <module>\n",
      "    from pandas.core.indexes.datetimelike import DatetimeTimedeltaMixin\n",
      "  File \"/home/dudgns1675/anaconda3/envs/test/lib/python3.8/site-packages/pandas-1.5.0-py3.8-linux-x86_64.egg/pandas/core/indexes/datetimelike.py\", line 74, in <module>\n",
      "    _T = TypeVar(\"_T\", bound=\"DatetimeIndexOpsMixin\")\n",
      "  File \"/home/dudgns1675/anaconda3/envs/test/lib/python3.8/typing.py\", line 586, in __init__\n",
      "    def __init__(self, name, *constraints, bound=None,\n",
      "KeyboardInterrupt\n",
      "Traceback (most recent call last):\n",
      "  File \"<string>\", line 1, in <module>\n",
      "  File \"/home/dudgns1675/anaconda3/envs/test/lib/python3.8/multiprocessing/spawn.py\", line 116, in spawn_main\n",
      "    exitcode = _main(fd, parent_sentinel)\n",
      "  File \"/home/dudgns1675/anaconda3/envs/test/lib/python3.8/multiprocessing/spawn.py\", line 126, in _main\n",
      "    self = reduction.pickle.load(from_parent)\n",
      "  File \"/home/dudgns1675/moftransformer/moftransformer/__init__.py\", line 1, in <module>\n",
      "    from moftransformer import visualize, utils, modules, libs, gadgets, datamodules, assets\n",
      "  File \"/home/dudgns1675/moftransformer/moftransformer/visualize/__init__.py\", line 1, in <module>\n",
      "    from moftransformer.visualize.visualizer import PatchVisualizer\n",
      "  File \"/home/dudgns1675/moftransformer/moftransformer/visualize/visualizer.py\", line 11, in <module>\n",
      "    from moftransformer.visualize.utils import get_structure, get_heatmap, scaler, get_model_and_datamodule, \\\n",
      "  File \"/home/dudgns1675/moftransformer/moftransformer/visualize/utils.py\", line 13, in <module>\n",
      "    import pytorch_lightning as pl\n",
      "  File \"/home/dudgns1675/anaconda3/envs/test/lib/python3.8/site-packages/pytorch_lightning-1.7.7-py3.8.egg/pytorch_lightning/__init__.py\", line 34, in <module>\n",
      "    from pytorch_lightning.callbacks import Callback  # noqa: E402\n",
      "  File \"/home/dudgns1675/anaconda3/envs/test/lib/python3.8/site-packages/pytorch_lightning-1.7.7-py3.8.egg/pytorch_lightning/callbacks/__init__.py\", line 14, in <module>\n",
      "    from pytorch_lightning.callbacks.callback import Callback\n",
      "  File \"/home/dudgns1675/anaconda3/envs/test/lib/python3.8/site-packages/pytorch_lightning-1.7.7-py3.8.egg/pytorch_lightning/callbacks/callback.py\", line 25, in <module>\n",
      "    from pytorch_lightning.utilities.types import STEP_OUTPUT\n",
      "  File \"/home/dudgns1675/anaconda3/envs/test/lib/python3.8/site-packages/pytorch_lightning-1.7.7-py3.8.egg/pytorch_lightning/utilities/types.py\", line 28, in <module>\n",
      "    from torchmetrics import Metric\n",
      "  File \"/home/dudgns1675/anaconda3/envs/test/lib/python3.8/site-packages/torchmetrics-0.10.0-py3.8.egg/torchmetrics/__init__.py\", line 14, in <module>\n",
      "    from torchmetrics import functional  # noqa: E402\n",
      "  File \"/home/dudgns1675/anaconda3/envs/test/lib/python3.8/site-packages/torchmetrics-0.10.0-py3.8.egg/torchmetrics/functional/__init__.py\", line 77, in <module>\n",
      "    from torchmetrics.functional.text.bleu import bleu_score\n",
      "  File \"/home/dudgns1675/anaconda3/envs/test/lib/python3.8/site-packages/torchmetrics-0.10.0-py3.8.egg/torchmetrics/functional/text/__init__.py\", line 30, in <module>\n",
      "    from torchmetrics.functional.text.bert import bert_score  # noqa: F401\n",
      "  File \"/home/dudgns1675/anaconda3/envs/test/lib/python3.8/site-packages/torchmetrics-0.10.0-py3.8.egg/torchmetrics/functional/text/bert.py\", line 24, in <module>\n",
      "    from torchmetrics.functional.text.helper_embedding_metric import (\n",
      "  File \"/home/dudgns1675/anaconda3/envs/test/lib/python3.8/site-packages/torchmetrics-0.10.0-py3.8.egg/torchmetrics/functional/text/helper_embedding_metric.py\", line 26, in <module>\n",
      "    from transformers import AutoModelForMaskedLM, AutoTokenizer, PreTrainedModel, PreTrainedTokenizerBase\n",
      "  File \"/home/dudgns1675/anaconda3/envs/test/lib/python3.8/site-packages/transformers-4.22.2-py3.8.egg/transformers/__init__.py\", line 30, in <module>\n",
      "    from . import dependency_versions_check\n",
      "  File \"/home/dudgns1675/anaconda3/envs/test/lib/python3.8/site-packages/transformers-4.22.2-py3.8.egg/transformers/dependency_versions_check.py\", line 17, in <module>\n",
      "    from .utils.versions import require_version, require_version_core\n",
      "  File \"/home/dudgns1675/anaconda3/envs/test/lib/python3.8/site-packages/transformers-4.22.2-py3.8.egg/transformers/utils/__init__.py\", line 34, in <module>\n",
      "    from .generic import (\n",
      "  File \"/home/dudgns1675/anaconda3/envs/test/lib/python3.8/site-packages/transformers-4.22.2-py3.8.egg/transformers/utils/generic.py\", line 29, in <module>\n",
      "    from .import_utils import is_flax_available, is_tf_available, is_torch_available, is_torch_fx_proxy\n",
      "  File \"/home/dudgns1675/anaconda3/envs/test/lib/python3.8/site-packages/transformers-4.22.2-py3.8.egg/transformers/utils/import_utils.py\", line 226, in <module>\n",
      "    _torchaudio_available = importlib.util.find_spec(\"torchaudio\") is not None\n",
      "  File \"/home/dudgns1675/anaconda3/envs/test/lib/python3.8/importlib/util.py\", line 103, in find_spec\n",
      "    return _find_spec(fullname, parent_path)\n",
      "  File \"<frozen importlib._bootstrap>\", line 914, in _find_spec\n",
      "  File \"<frozen importlib._bootstrap_external>\", line 1407, in find_spec\n",
      "  File \"<frozen importlib._bootstrap_external>\", line 1379, in _get_spec\n",
      "  File \"<frozen importlib._bootstrap_external>\", line 1534, in find_spec\n",
      "  File \"<frozen importlib._bootstrap_external>\", line 123, in _path_join\n",
      "  File \"<frozen importlib._bootstrap_external>\", line 123, in <listcomp>\n",
      "KeyboardInterrupt\n",
      "Traceback (most recent call last):\n",
      "  File \"<string>\", line 1, in <module>\n",
      "  File \"/home/dudgns1675/anaconda3/envs/test/lib/python3.8/multiprocessing/spawn.py\", line 116, in spawn_main\n",
      "    exitcode = _main(fd, parent_sentinel)\n",
      "  File \"/home/dudgns1675/anaconda3/envs/test/lib/python3.8/multiprocessing/spawn.py\", line 126, in _main\n",
      "    self = reduction.pickle.load(from_parent)\n",
      "  File \"/home/dudgns1675/moftransformer/moftransformer/__init__.py\", line 1, in <module>\n",
      "    from moftransformer import visualize, utils, modules, libs, gadgets, datamodules, assets\n",
      "  File \"/home/dudgns1675/moftransformer/moftransformer/visualize/__init__.py\", line 1, in <module>\n",
      "    from moftransformer.visualize.visualizer import PatchVisualizer\n",
      "  File \"/home/dudgns1675/moftransformer/moftransformer/visualize/visualizer.py\", line 11, in <module>\n",
      "    from moftransformer.visualize.utils import get_structure, get_heatmap, scaler, get_model_and_datamodule, \\\n",
      "  File \"/home/dudgns1675/moftransformer/moftransformer/visualize/utils.py\", line 13, in <module>\n",
      "    import pytorch_lightning as pl\n",
      "  File \"/home/dudgns1675/anaconda3/envs/test/lib/python3.8/site-packages/pytorch_lightning-1.7.7-py3.8.egg/pytorch_lightning/__init__.py\", line 34, in <module>\n",
      "    from pytorch_lightning.callbacks import Callback  # noqa: E402\n",
      "  File \"/home/dudgns1675/anaconda3/envs/test/lib/python3.8/site-packages/pytorch_lightning-1.7.7-py3.8.egg/pytorch_lightning/callbacks/__init__.py\", line 14, in <module>\n",
      "    from pytorch_lightning.callbacks.callback import Callback\n",
      "  File \"/home/dudgns1675/anaconda3/envs/test/lib/python3.8/site-packages/pytorch_lightning-1.7.7-py3.8.egg/pytorch_lightning/callbacks/callback.py\", line 25, in <module>\n",
      "    from pytorch_lightning.utilities.types import STEP_OUTPUT\n",
      "  File \"/home/dudgns1675/anaconda3/envs/test/lib/python3.8/site-packages/pytorch_lightning-1.7.7-py3.8.egg/pytorch_lightning/utilities/types.py\", line 28, in <module>\n",
      "    from torchmetrics import Metric\n",
      "  File \"/home/dudgns1675/anaconda3/envs/test/lib/python3.8/site-packages/torchmetrics-0.10.0-py3.8.egg/torchmetrics/__init__.py\", line 14, in <module>\n",
      "    from torchmetrics import functional  # noqa: E402\n",
      "  File \"/home/dudgns1675/anaconda3/envs/test/lib/python3.8/site-packages/torchmetrics-0.10.0-py3.8.egg/torchmetrics/functional/__init__.py\", line 77, in <module>\n",
      "    from torchmetrics.functional.text.bleu import bleu_score\n",
      "  File \"/home/dudgns1675/anaconda3/envs/test/lib/python3.8/site-packages/torchmetrics-0.10.0-py3.8.egg/torchmetrics/functional/text/__init__.py\", line 30, in <module>\n",
      "    from torchmetrics.functional.text.bert import bert_score  # noqa: F401\n",
      "  File \"/home/dudgns1675/anaconda3/envs/test/lib/python3.8/site-packages/torchmetrics-0.10.0-py3.8.egg/torchmetrics/functional/text/bert.py\", line 24, in <module>\n",
      "    from torchmetrics.functional.text.helper_embedding_metric import (\n",
      "  File \"/home/dudgns1675/anaconda3/envs/test/lib/python3.8/site-packages/torchmetrics-0.10.0-py3.8.egg/torchmetrics/functional/text/helper_embedding_metric.py\", line 26, in <module>\n",
      "    from transformers import AutoModelForMaskedLM, AutoTokenizer, PreTrainedModel, PreTrainedTokenizerBase\n",
      "  File \"/home/dudgns1675/anaconda3/envs/test/lib/python3.8/site-packages/transformers-4.22.2-py3.8.egg/transformers/__init__.py\", line 30, in <module>\n",
      "    from . import dependency_versions_check\n",
      "  File \"/home/dudgns1675/anaconda3/envs/test/lib/python3.8/site-packages/transformers-4.22.2-py3.8.egg/transformers/dependency_versions_check.py\", line 17, in <module>\n",
      "    from .utils.versions import require_version, require_version_core\n",
      "  File \"/home/dudgns1675/anaconda3/envs/test/lib/python3.8/site-packages/transformers-4.22.2-py3.8.egg/transformers/utils/__init__.py\", line 34, in <module>\n",
      "    from .generic import (\n",
      "  File \"/home/dudgns1675/anaconda3/envs/test/lib/python3.8/site-packages/transformers-4.22.2-py3.8.egg/transformers/utils/generic.py\", line 29, in <module>\n",
      "    from .import_utils import is_flax_available, is_tf_available, is_torch_available, is_torch_fx_proxy\n",
      "  File \"/home/dudgns1675/anaconda3/envs/test/lib/python3.8/site-packages/transformers-4.22.2-py3.8.egg/transformers/utils/import_utils.py\", line 171, in <module>\n",
      "    _tf2onnx_available = importlib.util.find_spec(\"tf2onnx\") is not None\n",
      "  File \"/home/dudgns1675/anaconda3/envs/test/lib/python3.8/importlib/util.py\", line 103, in find_spec\n",
      "    return _find_spec(fullname, parent_path)\n",
      "  File \"<frozen importlib._bootstrap>\", line 914, in _find_spec\n",
      "  File \"/home/dudgns1675/anaconda3/envs/test/lib/python3.8/site-packages/_distutils_hack/__init__.py\", line 95, in find_spec\n",
      "    method_name = 'spec_for_{fullname}'.format(**locals())\n",
      "KeyboardInterrupt\n",
      "Traceback (most recent call last):\n",
      "  File \"<string>\", line 1, in <module>\n",
      "  File \"/home/dudgns1675/anaconda3/envs/test/lib/python3.8/multiprocessing/spawn.py\", line 116, in spawn_main\n",
      "    exitcode = _main(fd, parent_sentinel)\n",
      "  File \"/home/dudgns1675/anaconda3/envs/test/lib/python3.8/multiprocessing/spawn.py\", line 126, in _main\n",
      "    self = reduction.pickle.load(from_parent)\n",
      "  File \"/home/dudgns1675/moftransformer/moftransformer/__init__.py\", line 1, in <module>\n",
      "    from moftransformer import visualize, utils, modules, libs, gadgets, datamodules, assets\n",
      "  File \"/home/dudgns1675/moftransformer/moftransformer/visualize/__init__.py\", line 1, in <module>\n",
      "    from moftransformer.visualize.visualizer import PatchVisualizer\n",
      "  File \"/home/dudgns1675/moftransformer/moftransformer/visualize/visualizer.py\", line 11, in <module>\n",
      "    from moftransformer.visualize.utils import get_structure, get_heatmap, scaler, get_model_and_datamodule, \\\n",
      "  File \"/home/dudgns1675/moftransformer/moftransformer/visualize/utils.py\", line 13, in <module>\n",
      "    import pytorch_lightning as pl\n",
      "  File \"/home/dudgns1675/anaconda3/envs/test/lib/python3.8/site-packages/pytorch_lightning-1.7.7-py3.8.egg/pytorch_lightning/__init__.py\", line 34, in <module>\n",
      "    from pytorch_lightning.callbacks import Callback  # noqa: E402\n",
      "  File \"/home/dudgns1675/anaconda3/envs/test/lib/python3.8/site-packages/pytorch_lightning-1.7.7-py3.8.egg/pytorch_lightning/callbacks/__init__.py\", line 14, in <module>\n",
      "    from pytorch_lightning.callbacks.callback import Callback\n",
      "  File \"/home/dudgns1675/anaconda3/envs/test/lib/python3.8/site-packages/pytorch_lightning-1.7.7-py3.8.egg/pytorch_lightning/callbacks/callback.py\", line 25, in <module>\n",
      "    from pytorch_lightning.utilities.types import STEP_OUTPUT\n",
      "  File \"/home/dudgns1675/anaconda3/envs/test/lib/python3.8/site-packages/pytorch_lightning-1.7.7-py3.8.egg/pytorch_lightning/utilities/types.py\", line 28, in <module>\n",
      "    from torchmetrics import Metric\n",
      "  File \"/home/dudgns1675/anaconda3/envs/test/lib/python3.8/site-packages/torchmetrics-0.10.0-py3.8.egg/torchmetrics/__init__.py\", line 14, in <module>\n",
      "    from torchmetrics import functional  # noqa: E402\n",
      "  File \"/home/dudgns1675/anaconda3/envs/test/lib/python3.8/site-packages/torchmetrics-0.10.0-py3.8.egg/torchmetrics/functional/__init__.py\", line 14, in <module>\n",
      "    from torchmetrics.functional.audio.pit import permutation_invariant_training, pit_permutate\n",
      "  File \"/home/dudgns1675/anaconda3/envs/test/lib/python3.8/site-packages/torchmetrics-0.10.0-py3.8.egg/torchmetrics/functional/audio/__init__.py\", line 14, in <module>\n",
      "    from torchmetrics.functional.audio.pit import permutation_invariant_training, pit_permutate  # noqa: F401\n",
      "  File \"/home/dudgns1675/anaconda3/envs/test/lib/python3.8/site-packages/torchmetrics-0.10.0-py3.8.egg/torchmetrics/functional/audio/pit.py\", line 21, in <module>\n",
      "    from torchmetrics.utilities.imports import _SCIPY_AVAILABLE\n",
      "  File \"/home/dudgns1675/anaconda3/envs/test/lib/python3.8/site-packages/torchmetrics-0.10.0-py3.8.egg/torchmetrics/utilities/__init__.py\", line 1, in <module>\n",
      "    from torchmetrics.utilities.checks import check_forward_full_state_property  # noqa: F401\n",
      "  File \"/home/dudgns1675/anaconda3/envs/test/lib/python3.8/site-packages/torchmetrics-0.10.0-py3.8.egg/torchmetrics/utilities/checks.py\", line 22, in <module>\n",
      "    from torchmetrics.utilities.data import select_topk, to_onehot\n",
      "  File \"/home/dudgns1675/anaconda3/envs/test/lib/python3.8/site-packages/torchmetrics-0.10.0-py3.8.egg/torchmetrics/utilities/data.py\", line 19, in <module>\n",
      "    from torchmetrics.utilities.imports import (\n",
      "  File \"/home/dudgns1675/anaconda3/envs/test/lib/python3.8/site-packages/torchmetrics-0.10.0-py3.8.egg/torchmetrics/utilities/imports.py\", line 119, in <module>\n",
      "    _TORCHVISION_GREATER_EQUAL_0_8: Optional[bool] = _compare_version(\"torchvision\", operator.ge, \"0.8.0\")\n",
      "  File \"/home/dudgns1675/anaconda3/envs/test/lib/python3.8/site-packages/torchmetrics-0.10.0-py3.8.egg/torchmetrics/utilities/imports.py\", line 79, in _compare_version\n",
      "    if not _module_available(package):\n",
      "  File \"/home/dudgns1675/anaconda3/envs/test/lib/python3.8/site-packages/torchmetrics-0.10.0-py3.8.egg/torchmetrics/utilities/imports.py\", line 60, in _module_available\n",
      "    module = import_module(module_names[0])\n",
      "  File \"/home/dudgns1675/anaconda3/envs/test/lib/python3.8/importlib/__init__.py\", line 127, in import_module\n",
      "    return _bootstrap._gcd_import(name[level:], package, level)\n",
      "  File \"/home/dudgns1675/anaconda3/envs/test/lib/python3.8/site-packages/torchvision-0.13.1-py3.8-linux-x86_64.egg/torchvision/__init__.py\", line 7, in <module>\n",
      "    from torchvision import models\n",
      "  File \"/home/dudgns1675/anaconda3/envs/test/lib/python3.8/site-packages/torchvision-0.13.1-py3.8-linux-x86_64.egg/torchvision/models/__init__.py\", line 2, in <module>\n",
      "    from .convnext import *\n",
      "  File \"/home/dudgns1675/anaconda3/envs/test/lib/python3.8/site-packages/torchvision-0.13.1-py3.8-linux-x86_64.egg/torchvision/models/convnext.py\", line 8, in <module>\n",
      "    from ..ops.misc import Conv2dNormActivation, Permute\n",
      "  File \"/home/dudgns1675/anaconda3/envs/test/lib/python3.8/site-packages/torchvision-0.13.1-py3.8-linux-x86_64.egg/torchvision/ops/__init__.py\", line 30, in <module>\n",
      "    _register_custom_op()\n",
      "  File \"/home/dudgns1675/anaconda3/envs/test/lib/python3.8/site-packages/torchvision-0.13.1-py3.8-linux-x86_64.egg/torchvision/ops/_register_onnx_ops.py\", line 10, in _register_custom_op\n",
      "    from torch.onnx.symbolic_helper import parse_args\n",
      "  File \"<frozen importlib._bootstrap>\", line 991, in _find_and_load\n",
      "  File \"<frozen importlib._bootstrap>\", line 975, in _find_and_load_unlocked\n",
      "  File \"<frozen importlib._bootstrap>\", line 671, in _load_unlocked\n",
      "  File \"<frozen importlib._bootstrap_external>\", line 839, in exec_module\n",
      "  File \"<frozen importlib._bootstrap_external>\", line 934, in get_code\n",
      "  File \"<frozen importlib._bootstrap_external>\", line 1033, in get_data\n",
      "KeyboardInterrupt\n",
      "Traceback (most recent call last):\n",
      "  File \"<string>\", line 1, in <module>\n",
      "  File \"/home/dudgns1675/anaconda3/envs/test/lib/python3.8/multiprocessing/spawn.py\", line 116, in spawn_main\n",
      "    exitcode = _main(fd, parent_sentinel)\n",
      "  File \"/home/dudgns1675/anaconda3/envs/test/lib/python3.8/multiprocessing/spawn.py\", line 126, in _main\n",
      "    self = reduction.pickle.load(from_parent)\n",
      "  File \"/home/dudgns1675/moftransformer/moftransformer/__init__.py\", line 1, in <module>\n",
      "    from moftransformer import visualize, utils, modules, libs, gadgets, datamodules, assets\n",
      "  File \"/home/dudgns1675/moftransformer/moftransformer/visualize/__init__.py\", line 1, in <module>\n",
      "    from moftransformer.visualize.visualizer import PatchVisualizer\n",
      "  File \"/home/dudgns1675/moftransformer/moftransformer/visualize/visualizer.py\", line 11, in <module>\n",
      "    from moftransformer.visualize.utils import get_structure, get_heatmap, scaler, get_model_and_datamodule, \\\n",
      "  File \"/home/dudgns1675/moftransformer/moftransformer/visualize/utils.py\", line 13, in <module>\n",
      "    import pytorch_lightning as pl\n",
      "  File \"/home/dudgns1675/anaconda3/envs/test/lib/python3.8/site-packages/pytorch_lightning-1.7.7-py3.8.egg/pytorch_lightning/__init__.py\", line 34, in <module>\n",
      "    from pytorch_lightning.callbacks import Callback  # noqa: E402\n",
      "  File \"/home/dudgns1675/anaconda3/envs/test/lib/python3.8/site-packages/pytorch_lightning-1.7.7-py3.8.egg/pytorch_lightning/callbacks/__init__.py\", line 14, in <module>\n",
      "    from pytorch_lightning.callbacks.callback import Callback\n",
      "  File \"/home/dudgns1675/anaconda3/envs/test/lib/python3.8/site-packages/pytorch_lightning-1.7.7-py3.8.egg/pytorch_lightning/callbacks/callback.py\", line 25, in <module>\n",
      "    from pytorch_lightning.utilities.types import STEP_OUTPUT\n",
      "  File \"/home/dudgns1675/anaconda3/envs/test/lib/python3.8/site-packages/pytorch_lightning-1.7.7-py3.8.egg/pytorch_lightning/utilities/types.py\", line 28, in <module>\n",
      "    from torchmetrics import Metric\n",
      "  File \"/home/dudgns1675/anaconda3/envs/test/lib/python3.8/site-packages/torchmetrics-0.10.0-py3.8.egg/torchmetrics/__init__.py\", line 14, in <module>\n",
      "    from torchmetrics import functional  # noqa: E402\n",
      "  File \"/home/dudgns1675/anaconda3/envs/test/lib/python3.8/site-packages/torchmetrics-0.10.0-py3.8.egg/torchmetrics/functional/__init__.py\", line 17, in <module>\n",
      "    from torchmetrics.functional.classification.accuracy import accuracy\n",
      "  File \"/home/dudgns1675/anaconda3/envs/test/lib/python3.8/site-packages/torchmetrics-0.10.0-py3.8.egg/torchmetrics/functional/classification/__init__.py\", line 14, in <module>\n",
      "    from torchmetrics.functional.classification.accuracy import (  # noqa: F401\n",
      "  File \"/home/dudgns1675/anaconda3/envs/test/lib/python3.8/site-packages/torchmetrics-0.10.0-py3.8.egg/torchmetrics/functional/classification/accuracy.py\", line 37, in <module>\n",
      "    from torchmetrics.utilities.compute import _safe_divide\n",
      "  File \"<frozen importlib._bootstrap>\", line 991, in _find_and_load\n",
      "  File \"<frozen importlib._bootstrap>\", line 975, in _find_and_load_unlocked\n",
      "  File \"<frozen importlib._bootstrap>\", line 671, in _load_unlocked\n",
      "  File \"<frozen importlib._bootstrap_external>\", line 839, in exec_module\n",
      "  File \"<frozen importlib._bootstrap_external>\", line 971, in get_code\n",
      "  File \"<frozen importlib._bootstrap_external>\", line 640, in _compile_bytecode\n",
      "KeyboardInterrupt\n",
      "/home/dudgns1675/anaconda3/envs/test/lib/python3.8/site-packages/pytorch_lightning-1.7.7-py3.8.egg/pytorch_lightning/trainer/trainer.py:653: UserWarning: Detected KeyboardInterrupt, attempting graceful shutdown...\n",
      "  rank_zero_warn(\"Detected KeyboardInterrupt, attempting graceful shutdown...\")\n",
      "Traceback (most recent call last):\n",
      "  File \"<string>\", line 1, in <module>\n",
      "  File \"/home/dudgns1675/anaconda3/envs/test/lib/python3.8/multiprocessing/spawn.py\", line 116, in spawn_main\n",
      "    exitcode = _main(fd, parent_sentinel)\n",
      "  File \"/home/dudgns1675/anaconda3/envs/test/lib/python3.8/multiprocessing/spawn.py\", line 126, in _main\n",
      "    self = reduction.pickle.load(from_parent)\n",
      "  File \"/home/dudgns1675/moftransformer/moftransformer/__init__.py\", line 1, in <module>\n",
      "    from moftransformer import visualize, utils, modules, libs, gadgets, datamodules, assets\n",
      "  File \"/home/dudgns1675/moftransformer/moftransformer/visualize/__init__.py\", line 1, in <module>\n",
      "    from moftransformer.visualize.visualizer import PatchVisualizer\n",
      "  File \"/home/dudgns1675/moftransformer/moftransformer/visualize/visualizer.py\", line 11, in <module>\n",
      "    from moftransformer.visualize.utils import get_structure, get_heatmap, scaler, get_model_and_datamodule, \\\n",
      "  File \"/home/dudgns1675/moftransformer/moftransformer/visualize/utils.py\", line 11, in <module>\n",
      "    from pymatgen.io.ase import AseAtomsAdaptor\n",
      "  File \"/home/dudgns1675/anaconda3/envs/test/lib/python3.8/site-packages/pymatgen-2022.9.21-py3.8-linux-x86_64.egg/pymatgen/io/ase.py\", line 31, in <module>\n",
      "    from ase.constraints import FixAtoms\n",
      "  File \"/home/dudgns1675/anaconda3/envs/test/lib/python3.8/site-packages/ase-3.22.1-py3.8.egg/ase/constraints.py\", line 5, in <module>\n",
      "    from scipy.linalg import expm, logm\n",
      "  File \"/home/dudgns1675/anaconda3/envs/test/lib/python3.8/site-packages/scipy-1.9.1-py3.8-linux-x86_64.egg/scipy/linalg/__init__.py\", line 216, in <module>\n",
      "    from ._sketches import *\n",
      "  File \"/home/dudgns1675/anaconda3/envs/test/lib/python3.8/site-packages/scipy-1.9.1-py3.8-linux-x86_64.egg/scipy/linalg/_sketches.py\", line 9, in <module>\n",
      "    from scipy.sparse import csc_matrix\n",
      "  File \"/home/dudgns1675/anaconda3/envs/test/lib/python3.8/site-packages/scipy-1.9.1-py3.8-linux-x86_64.egg/scipy/sparse/__init__.py\", line 269, in <module>\n",
      "    from ._lil import *\n",
      "  File \"/home/dudgns1675/anaconda3/envs/test/lib/python3.8/site-packages/scipy-1.9.1-py3.8-linux-x86_64.egg/scipy/sparse/_lil.py\", line 16, in <module>\n",
      "    from . import _csparsetools\n",
      "KeyboardInterrupt\n"
     ]
    }
   ],
   "source": [
    "run(downstream='example', num_gpus=[0], data_root='/home/dudgns1675/moftransformer/examples/dataset/')"
   ]
  }
 ],
 "metadata": {
  "kernelspec": {
   "display_name": "Python 3 (ipykernel)",
   "language": "python",
   "name": "python3"
  },
  "language_info": {
   "codemirror_mode": {
    "name": "ipython",
    "version": 3
   },
   "file_extension": ".py",
   "mimetype": "text/x-python",
   "name": "python",
   "nbconvert_exporter": "python",
   "pygments_lexer": "ipython3",
   "version": "3.8.13"
  }
 },
 "nbformat": 4,
 "nbformat_minor": 5
}