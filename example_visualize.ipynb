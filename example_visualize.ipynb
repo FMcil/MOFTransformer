{
 "cells": [
  {
   "cell_type": "code",
   "execution_count": null,
   "id": "79709ff6-4eda-4632-b8b2-1f20281cec9d",
   "metadata": {},
   "outputs": [],
   "source": [
    "%load_ext autoreload\n",
    "%autoreload 2"
   ]
  },
  {
   "cell_type": "markdown",
   "id": "787ed2ac-7ff4-43b7-b0ab-0f61e5a4ec87",
   "metadata": {},
   "source": [
    "# PatchVisualizer : Tools for attention visualize in MOFTransformer"
   ]
  },
  {
   "cell_type": "markdown",
   "id": "f4a5f4d9-3ce9-4db4-86e8-7cd4b2274a83",
   "metadata": {},
   "source": [
    "An interpretation of feature importance can afford a better understanding of the relationship between structures and properties. \\\n",
    "Given that the attention scores measure how much it should pay attention to the inputs when predicting the desired properties, \n",
    "the attention layers of the Transformer allow assigning high attention scores to the input features according to their importance. \\\n",
    "As such, we analyzed the feature importance of the properties via the attention scores from the fine-tuning models"
   ]
  },
  {
   "cell_type": "markdown",
   "id": "7f6ce70d-bdab-4aa7-8306-9201f777f9c8",
   "metadata": {},
   "source": [
    "You can import and use the PatchVisualizer in the visualize of MOFTransformer."
   ]
  },
  {
   "cell_type": "code",
   "execution_count": null,
   "id": "bf96e9da-c283-4223-b209-b9dcc52abd63",
   "metadata": {},
   "outputs": [],
   "source": [
    "from visualize import PatchVisualizer"
   ]
  },
  {
   "cell_type": "markdown",
   "id": "468bed76-7665-494c-b918-bf5793b96d47",
   "metadata": {},
   "source": [
    "# 1. Generate \\<PatchVisualize\\>"
   ]
  },
  {
   "cell_type": "markdown",
   "id": "143f8ce3-3553-4e95-a60f-0139092f6116",
   "metadata": {},
   "source": [
    "PatchVisualizer can be generated from 'model path' and 'data path'\n",
    "\n",
    "- `model_path` : path of model from fine-tuned MOFTransformer with format '.ckpt'\n",
    "- `data_root` : path of dataset directory obtained from 'prepared_data.py. (see Dataset Preparation)\\\n",
    "    MOFs to be visualized must exist in `{dataset_folder}/test.json` or `{dataset_folder}/test_{downstream}.json`,\\\n",
    "     and `{dataset_folder}/test folder`.\n",
    "    *.graphdata, *.grid, *.griddata16 files should be existed in {dataset_folder}/test folder.\n",
    "- `downstream` : (optional) Use if data are existed in `{dataset_folder}/test_{downstream}.json` (default:'')\n",
    "- `cif_root` : (optional) path of directory including cif file. The cif lists in the dataset folder should be included.\\\n",
    "    If not specified, it is automatically specified as a {dataset_folder}/test folder.\n",
    " "
   ]
  },
  {
   "cell_type": "markdown",
   "id": "901f3aad-e366-483f-ae9f-f13fe8b803fe",
   "metadata": {
    "tags": []
   },
   "source": [
    "PatchVisualizer` Class can be generated through the following two functions.\n",
    "### 1) PatchVisualizer.from_cifname\n",
    "Create PatchVisualizer from cif name. cif must be in test.json or test_{downstream}.json.\n",
    "- `cifname` : (str) name or path of cif. Data matching the corresponding cif name is retrieved from the dataset.\n",
    "- `model_path` : (str) path of model (more deatils are in above)\n",
    "- `data_root` : (str) root of dataset (more deatils are in above)\n",
    "- `downstream` : (optional, str) use if cifs existed in test_{downstream}.json.\n",
    "- `cif_root` : (optional, str) root of cifs. default : `data_root/test`\n",
    "\n",
    "Parameters written below are optional\n",
    "- figsize : (float, float) figure size in matplotlib\n",
    "- view_init : (float, float) view init from matplotlib (elevation, azimuth)\n",
    "- show_axis : (bool) If True, axis are visible. (default : False)\n",
    "- show_colorbar : (bool) If True, colorbar are visible. (default : False)\n",
    "- cmap : (str or matplotlib.colors.ListedColormap) color map used in figure. (default : None)\n",
    "- num_patches : (int, int, int) number of patches in unitcell (default : (6, 6, 6))\n",
    "- max_length : (float) maximum value for primitive lattice length of structure file (Å)\n",
    "- min_length: (float) minimum value for primitive lattice length of structure file (Å)"
   ]
  },
  {
   "cell_type": "markdown",
   "id": "c373671d-4e7c-43f1-8c2b-e3db7c90929c",
   "metadata": {},
   "source": [
    "In this tutorials, you need to download the finetuned models we've provided (please refer to dataset.md to download the ckpt files)"
   ]
  },
  {
   "cell_type": "code",
   "execution_count": null,
   "id": "a820cfb4-4205-48d8-b033-384649573838",
   "metadata": {},
   "outputs": [],
   "source": [
    "from visualize import PatchVisualizer\n",
    "\n",
    "model_path = './examples/finetuned_bandgap.ckpt'\n",
    "data_path = './examples/visualize/dataset/'\n",
    "\n",
    "cifname = 'MIBQAR01_FSR'\n",
    "\n",
    "vis = PatchVisualizer.from_cifname(cifname, model_path, data_path)\n",
    "print (vis)"
   ]
  },
  {
   "cell_type": "markdown",
   "id": "72b54ad2-0905-43d9-b9ba-43d51cd40efb",
   "metadata": {
    "tags": []
   },
   "source": [
    "### 2) PatchVisualizer.from_index\n",
    "Create PatchVisualizer from index. The index corresponds 1:1 to the MOF in the json file in dataset folder. The index matches the cif order of json.\n",
    "- `index` : (int) index of dataset.\n",
    "- `model_path` : (str) path of model (more deatils are in above)\n",
    "- `data_root` : (str) root of dataset (more deatils are in above)\n",
    "- `downstream` : (optional, str) use if cifs existed in test_{downstream}.json.\n",
    "- `cif_root` : (optional) root of cifs. default : `data_root/test`\n",
    "\n",
    "Parameters written below are optional\n",
    "- figsize : (float, float) figure size in matplotlib\n",
    "- view_init : (float, float) view init from matplotlib (elevation, azimuth)\n",
    "- show_axis : (bool) If True, axis are visible. (default : False)\n",
    "- show_colorbar : (bool) If True, colorbar are visible. (default : False)\n",
    "- cmap : (str or matplotlib.colors.ListedColormap) color map used in figure. (default : None)\n",
    "- num_patches : (int, int, int) number of patches in unitcell (default : (6, 6, 6))\n",
    "- max_length : (float) maximum value for primitive lattice length of structure file (Å)\n",
    "- min_length: (float) minimum value for primitive lattice length of structure file (Å)"
   ]
  },
  {
   "cell_type": "code",
   "execution_count": null,
   "id": "f481232b-94f1-4c98-8b21-e6bb34599bb6",
   "metadata": {},
   "outputs": [],
   "source": [
    "from visualize import PatchVisualizer\n",
    "\n",
    "model_path = './examples/finetuned_h2_uptake.ckpt'\n",
    "data_path = './examples/visualize/dataset/'\n",
    "\n",
    "batch_id = 0\n",
    "\n",
    "vis = PatchVisualizer.from_index(0, model_path, data_path)\n",
    "print (vis)"
   ]
  },
  {
   "cell_type": "markdown",
   "id": "38519ce7-6b5b-406e-bf54-f5afae4c0125",
   "metadata": {},
   "source": [
    " "
   ]
  },
  {
   "cell_type": "markdown",
   "id": "6f6375bb-feaf-41e0-872c-2a4adbe77bb0",
   "metadata": {},
   "source": [
    "# 2. Visualize Graph Attention"
   ]
  },
  {
   "cell_type": "markdown",
   "id": "eb5a50b3-e5d4-473a-a74f-c18e72627789",
   "metadata": {},
   "source": [
    "Graph attention can be schematized from the patch visualizer. It can be generated simply using the `draw_graph` function.\\\n",
    "If you use `%matplotlib widget` or `%matplotlib tk` in jupter notebook/lab, you can turn around or zoom in/out the figure.\\\n",
    "The attention score can be checked through the edge color of each atom."
   ]
  },
  {
   "cell_type": "code",
   "execution_count": null,
   "id": "52c6de16-b3b3-4245-9084-47f142b57b3b",
   "metadata": {},
   "outputs": [],
   "source": [
    "%matplotlib widget\n",
    "vis.draw_graph()"
   ]
  },
  {
   "cell_type": "markdown",
   "id": "67f275f7-85a9-485b-ade1-d7a0b28de987",
   "metadata": {},
   "source": [
    "Figure can be drawn by adjusting various parameters. all parameters are optinal.\n",
    "- `minatt` : (float) Minimum value of attention score (default : 0.000). A value smaller than minatt is treated as minatt.\n",
    "- `maxatt` : (float) Maximum value of attention score (default : 0.010). A value larger than maxatt is treated as maxatt.\n",
    "- `alpha` : (float) The alpha blending value, between 0 (transparent) and 1 (opaque).\n",
    "- `atomic scale_factor` : (float) The factors that determines atom size. (default = 1)\n",
    "- `grid_scale_factor` : (float) The factors that determines grid size (default = 3)\n",
    "- `att_scale_factor` : (float) The factor that determines attention-score overlay size (default = 5)\n",
    "\n",
    "The keywords below apply only to this figure. (If you want to change the global attribute, see section 4)\n",
    "- view_init : (float, float) view init from matplotlib (elevation, azimuth)\n",
    "- show_axis : (bool) If True, axis are visible. (default : False)\n",
    "- show_colorbar : (bool) If True, colorbar are visible. (default : False)\n",
    "- cmap : (str or matplotlib.colors.ListedColormap) color map used in figure. (default : None)\n",
    "\n",
    "If you want to change the `color bar`, refer to section 4"
   ]
  },
  {
   "cell_type": "code",
   "execution_count": null,
   "id": "3ff3221b-4461-4d10-b179-f6ad84d98f8d",
   "metadata": {
    "tags": []
   },
   "outputs": [],
   "source": [
    "%matplotlib widget\n",
    "minatt, maxatt = 0.002, 0.006\n",
    "view_init=(0, -55)\n",
    "cmap = 'rocket_r'\n",
    "alpha = 0.5\n",
    "grid_scale_factor = 1.8\n",
    "atomic_scale_factor = 1.5\n",
    "att_scale_factor= 3\n",
    "vis.draw_graph(minatt=minatt, maxatt=maxatt, view_init=view_init, alpha=alpha, cmap=cmap,\n",
    "               grid_scale_factor=grid_scale_factor, \n",
    "               atomic_scale_factor=atomic_scale_factor,\n",
    "               att_scale_factor=att_scale_factor)"
   ]
  },
  {
   "cell_type": "markdown",
   "id": "b30952c1-6e9b-41f5-9bb6-d15d4ad3ca02",
   "metadata": {},
   "source": [
    "# 3. Visualize Grid Attention"
   ]
  },
  {
   "cell_type": "markdown",
   "id": "afce0767-24fd-41c9-b124-878a9a961718",
   "metadata": {},
   "source": [
    "Grid attention can be schematized from the patch visualizer. It can be generated simply using the `draw_grid` function.\\\n",
    "If you use `%matplotlib widget` or `%matplotlib tk` in jupter notebook/lab, you can turn around or zoom in/out the figure.\n",
    "The attention score can be checked through the color of each patch."
   ]
  },
  {
   "cell_type": "markdown",
   "id": "79ed0bf4-2cc7-40f5-967b-88da2693937f",
   "metadata": {
    "tags": []
   },
   "source": [
    "## 1) draw_grid"
   ]
  },
  {
   "cell_type": "code",
   "execution_count": null,
   "id": "0ca7dfc7-c8b1-40a7-a5bb-155596f11b23",
   "metadata": {},
   "outputs": [],
   "source": [
    "vis.draw_grid()"
   ]
  },
  {
   "cell_type": "markdown",
   "id": "7c2aeeda-67b7-4ca4-941e-4096dce7750b",
   "metadata": {},
   "source": [
    "Figure can be drawn by adjusting various parameters. all parameters are optinal.\n",
    "- `minatt` : (float) Minimum value of attention score (default : 0.000). A value smaller than minatt is treated as minatt.\n",
    "- `maxatt` : (float) Maximum value of attention score (default : 0.010). A value larger than maxatt is treated as maxatt.\n",
    "- `patch_list` : (list) list of patch position that plot in figure. Draw all patches if not specified.\n",
    "- `remove_under_minatt` : (bool) If True, do not draw a patch with an attention value lower than `minatt`.\n",
    "- `alpha` : (float) The alpha blending value, between 0 (transparent) and 1 (opaque).\n",
    "- `atomic scale_factor` : (float) The factors that determines atom size. (default = 1)\n",
    "- `grid_scale_factor` : (float) The factors that determines grid size (default = 3)\n",
    "\n",
    "The keywords below apply only to this figure. (If you want to change the global attribute, see section 4)\n",
    "- view_init : (float, float) view init from matplotlib (elevation, azimuth)\n",
    "- show_axis : (bool) If True, axis are visible. (default : False)\n",
    "- show_colorbar : (bool) If True, colorbar are visible. (default : False)\n",
    "- cmap : (str or matplotlib.colors.ListedColormap) color map used in figure. (default : None)\n",
    "\n",
    "If you want to change the `color bar`, refer to section 4"
   ]
  },
  {
   "cell_type": "code",
   "execution_count": null,
   "id": "eed0c88f-582c-4eeb-8b1b-e203b1db7628",
   "metadata": {},
   "outputs": [],
   "source": [
    "%matplotlib widget\n",
    "minatt, maxatt = 0.005, 0.008\n",
    "view_init=(0, -55)\n",
    "cmap = 'rocket_r'\n",
    "alpha = 0.3\n",
    "grid_scale_factor = 1.8\n",
    "atomic_scale_factor = 2\n",
    "\n",
    "vis.draw_grid(minatt=minatt, maxatt=maxatt, view_init=view_init, alpha=alpha, cmap=cmap,\n",
    "              grid_scale_factor=grid_scale_factor, \n",
    "              atomic_scale_factor=atomic_scale_factor, \n",
    "              remove_under_minatt=True)"
   ]
  },
  {
   "cell_type": "code",
   "execution_count": null,
   "id": "0143be5c-5adb-4019-bc73-61b6213b1831",
   "metadata": {},
   "outputs": [],
   "source": [
    "%matplotlib widget\n",
    "view_init=(27, -92)\n",
    "alpha = 1\n",
    "grid_scale_factor = 1.8\n",
    "atomic_scale_factor = 2\n",
    "patch_list = [[0,0,0], [1,1,1], [2,2,2], [3,3,3], [4,4,4], [5,5,5]] # make list to patch position\n",
    "vis.draw_grid(view_init=view_init, alpha=alpha,\n",
    "              grid_scale_factor=grid_scale_factor, \n",
    "              patch_list=patch_list,\n",
    "              atomic_scale_factor=atomic_scale_factor)"
   ]
  },
  {
   "cell_type": "markdown",
   "id": "f0f64537-d17d-4b44-ab62-2cd4abbd7b80",
   "metadata": {
    "tags": []
   },
   "source": [
    "## 2) draw_grid_with_attention_rank"
   ]
  },
  {
   "cell_type": "markdown",
   "id": "01c9c5d5-51ee-4b21-a1fd-5d799b330dcc",
   "metadata": {},
   "source": [
    "Rank means that the attention score is listed in the order of high.\n",
    "- `rank` : (int or iterable) The rank (int) or iterable of ranks (list, np.array, tuple, range, etc) of the patch you want to draw.\n",
    "\n",
    "Figure can be drawn by adjusting various parameters. all parameters are optinal.\n",
    "- `minatt` : (float) Minimum value of attention score (default : 0.000). A value smaller than minatt is treated as minatt.\n",
    "- `maxatt` : (float) Maximum value of attention score (default : 0.010). A value larger than maxatt is treated as maxatt.\n",
    "- `remove_under_minatt` : (bool) If True, do not draw a patch with an attention value lower than `minatt`.\n",
    "- `alpha` : (float) The alpha blending value, between 0 (transparent) and 1 (opaque).\n",
    "- `atomic scale_factor` : (float) The factors that determines atom size. (default = 1)\n",
    "- `grid_scale_factor` : (float) The factors that determines grid size (default = 3)\n",
    "\n",
    "The keywords below apply only to this figure. (If you want to change the global attribute, see section 4)\n",
    "- view_init : (float, float) view init from matplotlib (elevation, azimuth)\n",
    "- show_axis : (bool) If True, axis are visible. (default : False)\n",
    "- show_colorbar : (bool) If True, colorbar are visible. (default : False)\n",
    "- cmap : (str or matplotlib.colors.ListedColormap) color map used in figure. (default : None)\n",
    "\n",
    "If you want to change the `color bar`, refer to section 4"
   ]
  },
  {
   "cell_type": "code",
   "execution_count": null,
   "id": "0f0c9519-3ab4-47ff-a571-f9208bfca863",
   "metadata": {},
   "outputs": [],
   "source": [
    "view_init = (0, 125)\n",
    "grid_scale_factor=1.8\n",
    "atomic_scale_factor=1.5\n",
    "rank = range(20)\n",
    "\n",
    "vis.draw_grid_with_attention_rank(rank, view_init=view_init, \n",
    "                                  grid_scale_factor=grid_scale_factor,\n",
    "                                  atomic_scale_factor=atomic_scale_factor)"
   ]
  },
  {
   "cell_type": "markdown",
   "id": "2d7035fe-80d6-474e-b790-342a27cffd50",
   "metadata": {},
   "source": [
    "## 3) draw_specific_patch"
   ]
  },
  {
   "cell_type": "markdown",
   "id": "88f38344-0a00-42ac-9a30-d69a11a15258",
   "metadata": {},
   "source": [
    "Draw one specific patch with neighbor atoms.\n",
    "- `patch_position` : (list) patch position that plot in figure.\n",
    "\n",
    "Figure can be drawn by adjusting various parameters. all parameters are optinal.\n",
    "- `ep` : (float) Distance of patches to be visualized around target patches (default = 0.5)\n",
    "- `color` : (bool) If True, paint patch's color that indicate attention grid\n",
    "- `minatt` : (float) Minimum value of attention score (default : 0.000). A value smaller than minatt is treated as minatt.\n",
    "- `maxatt` : (float) Maximum value of attention score (default : 0.010). A value larger than maxatt is treated as maxatt.\n",
    "- `alpha` : (float) The alpha blending value, between 0 (transparent) and 1 (opaque).\n",
    "- `atomic scale_factor` : (float) The factors that determines atom size. (default = 1)\n",
    "- `grid_scale_factor` : (float) The factors that determines grid size (default = 3)\n",
    "\n",
    "The keywords below apply only to this figure. (If you want to change the global attribute, see section 4)\n",
    "- view_init : (float, float) view init from matplotlib (elevation, azimuth)\n",
    "- show_axis : (bool) If True, axis are visible. (default : False)\n",
    "- show_colorbar : (bool) If True, colorbar are visible. (default : False)\n",
    "- cmap : (str or matplotlib.colors.ListedColormap) color map used in figure. (default : None)\n",
    "\n",
    "If you want to change the `color bar`, refer to section 4"
   ]
  },
  {
   "cell_type": "code",
   "execution_count": null,
   "id": "787e0aa9-6acb-4e9a-8d28-1cd4e05a1c7a",
   "metadata": {},
   "outputs": [],
   "source": [
    "%matplotlib widget\n",
    "patch_position = [2, 2, 2]\n",
    "view_init = (0, -55)\n",
    "vis.draw_specific_patch(patch_position, alpha=0.5, view_init=0)"
   ]
  },
  {
   "cell_type": "markdown",
   "id": "f9454944-e9a4-408c-b4c9-c13102e2db8e",
   "metadata": {},
   "source": [
    "## 4) draw_specific_patch"
   ]
  },
  {
   "cell_type": "markdown",
   "id": "c171c4f3-fabf-4486-ba45-950f1192dc29",
   "metadata": {},
   "source": [
    "Rank means that the attention score is listed in the order of high.\n",
    "- `rank` : (int or iterable) The rank (int) of the patch you want to draw.\n",
    "\n",
    "Figure can be drawn by adjusting various parameters. all parameters are optinal.\n",
    "- `ep` : (float) Distance of patches to be visualized around target patches (default = 0.5)\n",
    "- `color` : (bool) If True, paint patch's color that indicate attention grid\n",
    "- `minatt` : (float) Minimum value of attention score (default : 0.000). A value smaller than minatt is treated as minatt.\n",
    "- `maxatt` : (float) Maximum value of attention score (default : 0.010). A value larger than maxatt is treated as maxatt.\n",
    "- `alpha` : (float) The alpha blending value, between 0 (transparent) and 1 (opaque).\n",
    "- `atomic scale_factor` : (float) The factors that determines atom size. (default = 1)\n",
    "- `grid_scale_factor` : (float) The factors that determines grid size (default = 3)\n",
    "\n",
    "The keywords below apply only to this figure. (If you want to change the global attribute, see section 4)\n",
    "- view_init : (float, float) view init from matplotlib (elevation, azimuth)\n",
    "- show_axis : (bool) If True, axis are visible. (default : False)\n",
    "- show_colorbar : (bool) If True, colorbar are visible. (default : False)\n",
    "- cmap : (str or matplotlib.colors.ListedColormap) color map used in figure. (default : None)\n",
    "\n",
    "If you want to change the `color bar`, refer to section 4"
   ]
  },
  {
   "cell_type": "code",
   "execution_count": null,
   "id": "cb777c69-7682-4f8f-a8bf-0c381267c9f9",
   "metadata": {},
   "outputs": [],
   "source": [
    "view_init = (15, -58)\n",
    "vis.draw_specific_patch_with_attention_rank(1, alpha=0.5, ep=0.8, \n",
    "                                            view_init = view_init,\n",
    "                                           grid_scale_factor=2)"
   ]
  },
  {
   "cell_type": "markdown",
   "id": "fb6979e3-3160-4bd1-bcdc-436dbfd203af",
   "metadata": {
    "tags": []
   },
   "source": [
    "# 4. Parameters"
   ]
  },
  {
   "cell_type": "markdown",
   "id": "6c8a6744-53fa-40b5-b85d-fa1fc53adaaa",
   "metadata": {},
   "source": [
    "## 1) Parameters for figure"
   ]
  },
  {
   "cell_type": "markdown",
   "id": "a0004d38-a2e6-49dd-9690-d0d9d343ca7b",
   "metadata": {},
   "source": [
    "These parameters may be changed through the variable assignment.\n",
    "- figsize, view_init, show_axis, show_colorbar, cmap\n",
    "- PatchVisualizer.set_default() to change all parmeters to default"
   ]
  },
  {
   "cell_type": "code",
   "execution_count": null,
   "id": "40e65705-a659-49e8-aecb-ae7a1d44bca6",
   "metadata": {},
   "outputs": [],
   "source": [
    "print (f'Before | figsize:{vis.figsize}, view_init:{vis.view_init}, show_axis:{vis.show_axis}, show_colorbar:{vis.show_colorbar}, vis.cmap:{vis.cmap}')\n",
    "\n",
    "vis.figsize = (4, 4)\n",
    "vis.view_init = (30, 30)\n",
    "vis.show_colorbar = False\n",
    "vis.show_axis = True\n",
    "vis.cmap = 'viridis'\n",
    "\n",
    "print (f'After  | figsize:{vis.figsize}, view_init:{vis.view_init}, show_axis:{vis.show_axis}, show_colorbar:{vis.show_colorbar}, vis.cmap:{vis.cmap}')\n",
    "\n",
    "vis.set_default()\n",
    "\n",
    "print (f'Clear  | figsize:{vis.figsize}, view_init:{vis.view_init}, show_axis:{vis.show_axis}, show_colorbar:{vis.show_colorbar}, vis.cmap:{vis.cmap}')"
   ]
  },
  {
   "cell_type": "markdown",
   "id": "816be740-62cd-41a1-820b-b9a965d25de7",
   "metadata": {},
   "source": [
    "## 2) parameters for colorbar"
   ]
  },
  {
   "cell_type": "markdown",
   "id": "b283f291-0d2c-4923-adb4-4362b25a3503",
   "metadata": {},
   "source": [
    "Default colorbar options are in `cbar_kwargs` "
   ]
  },
  {
   "cell_type": "code",
   "execution_count": null,
   "id": "306d21c5-cbae-4d8c-a33b-b386a098b358",
   "metadata": {},
   "outputs": [],
   "source": [
    "print (vis.cbar_kwargs)"
   ]
  },
  {
   "cell_type": "markdown",
   "id": "4f0d61c4-2954-4853-bbb3-3143c193f356",
   "metadata": {},
   "source": [
    "you can change colorbar options using `set_colorbar_options`"
   ]
  },
  {
   "cell_type": "code",
   "execution_count": null,
   "id": "f4344dca-6f91-42fb-90c8-19ab0ca4f5ed",
   "metadata": {},
   "outputs": [],
   "source": [
    "vis.set_colorbar_options(num_ticks=3, fontsize=10, labelsize=15, shrink=0.3)\n",
    "vis.draw_graph(grid_scale_factor=1.5, view_init=(0, -55))"
   ]
  },
  {
   "cell_type": "code",
   "execution_count": null,
   "id": "7b75ba07-ee15-4e70-81a2-b26232a268f8",
   "metadata": {},
   "outputs": [],
   "source": [
    "# to default colorbar\n",
    "vis.set_colorbar_options(default=True)"
   ]
  },
  {
   "cell_type": "markdown",
   "id": "c3b5f991-7688-40e2-aec2-866456363a57",
   "metadata": {},
   "source": [
    "## 3) attention value"
   ]
  },
  {
   "cell_type": "markdown",
   "id": "33d7eb1f-96e4-4a28-b14a-dbcbb0bd6002",
   "metadata": {},
   "source": [
    "- `heatmap_graph` : attention value for graph\n",
    "- `heatmap_grid` : attention value for grid"
   ]
  },
  {
   "cell_type": "code",
   "execution_count": null,
   "id": "cd4c0346-4669-4497-8a85-194148266788",
   "metadata": {},
   "outputs": [],
   "source": [
    "# heatmap_graph\n",
    "vis.heatmap_graph[:30]"
   ]
  },
  {
   "cell_type": "code",
   "execution_count": null,
   "id": "a50c9902-8b7c-41f2-af21-fa05b8de1d90",
   "metadata": {},
   "outputs": [],
   "source": [
    "# heatmap_grid\n",
    "vis.heatmap_grid[:3, :3, :3]"
   ]
  }
 ],
 "metadata": {
  "kernelspec": {
   "display_name": "Python 3 (ipykernel)",
   "language": "python",
   "name": "python3"
  },
  "language_info": {
   "codemirror_mode": {
    "name": "ipython",
    "version": 3
   },
   "file_extension": ".py",
   "mimetype": "text/x-python",
   "name": "python",
   "nbconvert_exporter": "python",
   "pygments_lexer": "ipython3",
   "version": "3.8.13"
  }
 },
 "nbformat": 4,
 "nbformat_minor": 5
}
